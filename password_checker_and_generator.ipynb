{
 "cells": [
  {
   "cell_type": "code",
   "execution_count": 3,
   "id": "5b58e2a2-22ad-452f-a15e-2c3968c5790e",
   "metadata": {},
   "outputs": [
    {
     "name": "stdin",
     "output_type": "stream",
     "text": [
      "Enter a password to check: rohini\n"
     ]
    },
    {
     "name": "stdout",
     "output_type": "stream",
     "text": [
      "Good choice! This password isn't commonly used.\n",
      "Strength:1/5\n",
      "Your password is too weak.\n",
      "Try this stronger one: rc/arKgP-MIoz2c`\n"
     ]
    }
   ],
   "source": [
    "import re\n",
    "import string\n",
    "import random\n",
    "def load_passwords(path):\n",
    "    with open(path,'r') as file:\n",
    "        return set(line.strip().lower() for line in file)\n",
    "def check_passwords(password,common_passwords):\n",
    "    if password.lower() in common_passwords:\n",
    "        print(\"This password is too common and easily guessable!\")\n",
    "        return True\n",
    "    else:\n",
    "        print(\"Good choice! This password isn't commonly used.\")\n",
    "        return False\n",
    "def generate_password(length=16):\n",
    "    chars=string.ascii_letters+string.digits+string.punctuation\n",
    "    return ''.join(random.choice(chars) for _ in range(length))\n",
    "def strength(password):\n",
    "    score=0\n",
    "    if len(password)>=8:\n",
    "        score+=1\n",
    "    if re.search(r\"[A-Z]\",password):\n",
    "        score+=1\n",
    "    if re.search(r\"[a-z]\",password):\n",
    "        score+=1\n",
    "    if re.search(r\"[0-9]\",password):\n",
    "        score+=1\n",
    "    if re.search(r\"[!@#$%^&*()_+\\-=\\[\\]{};':\\\"\\\\|,.<>/?]\", password):\n",
    "        score+=1\n",
    "    return score\n",
    "path=\"common_passwords.txt\"\n",
    "password=input(\"Enter a password to check:\").strip()\n",
    "common_passwords=load_passwords(path)\n",
    "is_common=check_passwords(password,common_passwords)\n",
    "score=strength(password)\n",
    "print(f\"Strength:{score}/5\")\n",
    "if score<= 2 or is_common:\n",
    "    print(\"Your password is too weak.\")\n",
    "    print(\"Try this stronger one:\",generate_password())\n",
    "elif 3<=score<=4:\n",
    "    print(\"Your password is moderate — not bad, but it could be stronger.\")\n",
    "    print(\"Here's a better one to consider:\",generate_password())\n",
    "else:\n",
    "    print(\"Great! Your password is strong and secure.\")"
   ]
  },
  {
   "cell_type": "code",
   "execution_count": null,
   "id": "ad2d778e-1734-43fb-ab63-c9bc533e2830",
   "metadata": {},
   "outputs": [],
   "source": []
  }
 ],
 "metadata": {
  "kernelspec": {
   "display_name": "Python [conda env:base] *",
   "language": "python",
   "name": "conda-base-py"
  },
  "language_info": {
   "codemirror_mode": {
    "name": "ipython",
    "version": 3
   },
   "file_extension": ".py",
   "mimetype": "text/x-python",
   "name": "python",
   "nbconvert_exporter": "python",
   "pygments_lexer": "ipython3",
   "version": "3.12.7"
  }
 },
 "nbformat": 4,
 "nbformat_minor": 5
}
